{
 "cells": [
  {
   "cell_type": "code",
   "execution_count": 1,
   "metadata": {},
   "outputs": [],
   "source": [
    "import torch\n",
    "from pysymbolic.models.special_functions import MeijerG\n",
    "import numpy as np"
   ]
  },
  {
   "cell_type": "code",
   "execution_count": 2,
   "metadata": {},
   "outputs": [],
   "source": [
    "class meijerPytorch(torch.autograd.Function):\n",
    "    @staticmethod\n",
    "    def forward(ctx, input, theta, order=None):\n",
    "        input_ = input.tolist()\n",
    "        theta_ = theta.tolist()\n",
    "        order_ = order.tolist()\n",
    "        func = MeijerG(theta=theta_, order=[int(i) for i in order_])\n",
    "        ctx.save_for_backward(input, theta,order)\n",
    "        output = func.evaluate(input_)\n",
    "        return torch.FloatTensor(output)\n",
    "\n",
    "    @staticmethod\n",
    "    def backward(ctx, grad_output):\n",
    "        input, theta, order = ctx.saved_tensors\n",
    "        input_ = input.tolist()\n",
    "        theta_ = theta.tolist()\n",
    "        order_ = order.tolist()\n",
    "        \n",
    "        grad_input = grad_weight = grad_bias = None\n",
    "        func = MeijerG(theta=theta_, order=[int(i) for i in order_])\n",
    "        grads = torch.FloatTensor([i[0] for i in func.gradients(input)])\n",
    "\n",
    "        return None, grads, None"
   ]
  },
  {
   "cell_type": "markdown",
   "metadata": {},
   "source": [
    "After creating the operation meijerPytorch that defines the forward and backward pass we test the implementation on a sinusoidale test function"
   ]
  },
  {
   "cell_type": "code",
   "execution_count": null,
   "metadata": {},
   "outputs": [
    {
     "name": "stdout",
     "output_type": "stream",
     "text": [
      "tensor(0.0609, grad_fn=<MeanBackward0>)\n",
      "tensor(0.0634, grad_fn=<MeanBackward0>)\n",
      "tensor(0.0676, grad_fn=<MeanBackward0>)\n",
      "tensor(0.0721, grad_fn=<MeanBackward0>)\n",
      "tensor(0.0762, grad_fn=<MeanBackward0>)\n",
      "tensor(0.0794, grad_fn=<MeanBackward0>)\n",
      "tensor(0.0818, grad_fn=<MeanBackward0>)\n",
      "tensor(0.0835, grad_fn=<MeanBackward0>)\n",
      "tensor(0.0847, grad_fn=<MeanBackward0>)\n",
      "tensor(0.0855, grad_fn=<MeanBackward0>)\n",
      "tensor(0.0861, grad_fn=<MeanBackward0>)\n",
      "tensor(0.0864, grad_fn=<MeanBackward0>)\n",
      "tensor(0.0867, grad_fn=<MeanBackward0>)\n"
     ]
    }
   ],
   "source": [
    "meij = meijerPytorch.apply\n",
    "x = torch.FloatTensor(np.linspace(0.05,0.95,1))\n",
    "y = torch.sin(x*6)\n",
    "theta = torch.FloatTensor([1,1,1,0,1])\n",
    "learning_rate= 0.1\n",
    "\n",
    "for i in range(20):\n",
    "    theta.requires_grad = True\n",
    "    order = torch.FloatTensor([1, 2, 2, 2])\n",
    "\n",
    "    t = meij(x,theta ,order)\n",
    "    loss = torch.mean((t-y)**2)\n",
    "    print(loss)\n",
    "    loss.backward()\n",
    "    with torch.no_grad():\n",
    "        theta -= learning_rate * theta.grad\n"
   ]
  },
  {
   "cell_type": "code",
   "execution_count": null,
   "metadata": {},
   "outputs": [],
   "source": []
  }
 ],
 "metadata": {
  "kernelspec": {
   "display_name": "Python 3",
   "language": "python",
   "name": "python3"
  },
  "language_info": {
   "codemirror_mode": {
    "name": "ipython",
    "version": 3
   },
   "file_extension": ".py",
   "mimetype": "text/x-python",
   "name": "python",
   "nbconvert_exporter": "python",
   "pygments_lexer": "ipython3",
   "version": "3.6.10"
  }
 },
 "nbformat": 4,
 "nbformat_minor": 4
}
