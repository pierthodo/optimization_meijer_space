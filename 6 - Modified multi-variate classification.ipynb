{
 "cells": [
  {
   "cell_type": "code",
   "execution_count": 1,
   "metadata": {},
   "outputs": [],
   "source": [
    "from pysymbolic.algorithms.symbolic_metamodeling import *\n",
    "import pandas as pd\n",
    "from sklearn.preprocessing import MinMaxScaler\n",
    "from xgboost import XGBClassifier\n",
    "from sklearn.linear_model import LogisticRegression\n",
    "\n",
    "from sklearn.metrics import roc_auc_score\n",
    "from sklearn.model_selection import train_test_split\n",
    "\n",
    "\n"
   ]
  },
  {
   "cell_type": "code",
   "execution_count": 2,
   "metadata": {},
   "outputs": [],
   "source": [
    "data          = pd.read_csv(\"data/absenteeism.csv\", delimiter=';')\n",
    "\n",
    "feature_names = ['Transportation expense', 'Distance from Residence to Work',\n",
    "                 'Service time', 'Age', 'Work load Average/day ', 'Hit target',\n",
    "                 'Disciplinary failure', 'Education', 'Son', 'Social drinker',\n",
    "                 'Social smoker', 'Pet', 'Weight', 'Height', 'Body mass index']\n",
    "\n",
    "scaler        = MinMaxScaler(feature_range=(0, 1))\n",
    "X             = scaler.fit_transform(data[feature_names])\n",
    "Y             = ((data['Absenteeism time in hours'] > 4) * 1) \n",
    "\n",
    "X_train, X_test, Y_train, Y_test = train_test_split(X, Y, test_size=0.33, random_state=42)\n"
   ]
  },
  {
   "cell_type": "code",
   "execution_count": 3,
   "metadata": {},
   "outputs": [
    {
     "name": "stdout",
     "output_type": "stream",
     "text": [
      "ROCAUC score of XGB Classifier is  0.700890272148234\n"
     ]
    }
   ],
   "source": [
    "model         = XGBClassifier()\n",
    "\n",
    "model.fit(X_train, Y_train)\n",
    "print(\"ROCAUC score of XGB Classifier is \",roc_auc_score(Y_test, model.predict_proba(X_test)[:, 1]))"
   ]
  },
  {
   "cell_type": "code",
   "execution_count": 4,
   "metadata": {},
   "outputs": [
    {
     "name": "stdout",
     "output_type": "stream",
     "text": [
      "ROCAUC score of logistic regression is  0.6709250144759699\n"
     ]
    }
   ],
   "source": [
    "model_L = LogisticRegression()\n",
    "\n",
    "model_L.fit(X_train, Y_train)\n",
    "\n",
    "print(\"ROCAUC score of logistic regression is \",roc_auc_score(Y_test, model_L.predict_proba(X_test)[:, 1]))"
   ]
  },
  {
   "cell_type": "code",
   "execution_count": 5,
   "metadata": {},
   "outputs": [
    {
     "name": "stdout",
     "output_type": "stream",
     "text": [
      "---- Tuning the basis functions ----\n"
     ]
    },
    {
     "data": {
      "application/vnd.jupyter.widget-view+json": {
       "model_id": "876451d8ca364daa87fea731fedf9997",
       "version_major": 2,
       "version_minor": 0
      },
      "text/plain": [
       "HBox(children=(FloatProgress(value=0.0, max=15.0), HTML(value='')))"
      ]
     },
     "metadata": {},
     "output_type": "display_data"
    },
    {
     "name": "stdout",
     "output_type": "stream",
     "text": [
      "\n",
      "----  Optimizing the metamodel  ----\n"
     ]
    },
    {
     "data": {
      "application/vnd.jupyter.widget-view+json": {
       "model_id": "976745c7b7c4456ea8fd89f6ffc9c9e3",
       "version_major": 2,
       "version_minor": 0
      },
      "text/plain": [
       "HBox(children=(FloatProgress(value=0.0, max=10.0), HTML(value='')))"
      ]
     },
     "metadata": {},
     "output_type": "display_data"
    },
    {
     "name": "stdout",
     "output_type": "stream",
     "text": [
      "\n",
      "ROCAUC score of symbolic metamodel is  0.7467790966994788\n"
     ]
    }
   ],
   "source": [
    "metamodel = symbolic_metamodel(model, X_train)\n",
    "\n",
    "metamodel.fit(num_iter=10, batch_size=X_train.shape[0], learning_rate=.01)\n",
    "Y_metamodel = metamodel.evaluate(X_test)\n",
    "\n",
    "print(\"ROCAUC score of symbolic metamodel is \",roc_auc_score(Y_test, Y_metamodel))"
   ]
  },
  {
   "cell_type": "code",
   "execution_count": 6,
   "metadata": {},
   "outputs": [
    {
     "name": "stdout",
     "output_type": "stream",
     "text": [
      "ROCAUC score of linear regression on extended feature set is  0.7325926462072958\n"
     ]
    }
   ],
   "source": [
    "feature = PolynomialFeatures(2, include_bias=False, interaction_only=True)\n",
    "X_train = feature.fit_transform(X_train)\n",
    "X_test = feature.transform(X_test)\n",
    "clf = Ridge(alpha=.1, fit_intercept=False, normalize=True)\n",
    "clf.fit(X_train,Y_train)\n",
    "Y_pred_r = clf.predict(X_test)\n",
    "Y_pred = 1 / (1 + np.exp(-1 * Y_pred_r))\n",
    "print(\"ROCAUC score of linear regression on extended feature set is \",roc_auc_score(Y_test,Y_pred))"
   ]
  },
  {
   "cell_type": "code",
   "execution_count": null,
   "metadata": {},
   "outputs": [],
   "source": []
  }
 ],
 "metadata": {
  "kernelspec": {
   "display_name": "Python 3",
   "language": "python",
   "name": "python3"
  },
  "language_info": {
   "codemirror_mode": {
    "name": "ipython",
    "version": 3
   },
   "file_extension": ".py",
   "mimetype": "text/x-python",
   "name": "python",
   "nbconvert_exporter": "python",
   "pygments_lexer": "ipython3",
   "version": "3.6.10"
  }
 },
 "nbformat": 4,
 "nbformat_minor": 4
}
